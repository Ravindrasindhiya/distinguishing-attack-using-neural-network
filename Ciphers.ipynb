{
  "nbformat": 4,
  "nbformat_minor": 0,
  "metadata": {
    "colab": {
      "name": "Ciphers.ipynb",
      "provenance": [],
      "collapsed_sections": [],
      "authorship_tag": "ABX9TyPCrSueOCZpIsiZwQqNqWm1",
      "include_colab_link": true
    },
    "kernelspec": {
      "name": "python3",
      "display_name": "Python 3"
    },
    "language_info": {
      "name": "python"
    }
  },
  "cells": [
    {
      "cell_type": "markdown",
      "metadata": {
        "id": "view-in-github",
        "colab_type": "text"
      },
      "source": [
        "<a href=\"https://colab.research.google.com/github/Ravindrasindhiya/distinguishing-attack-using-neural-network/blob/main/Ciphers.ipynb\" target=\"_parent\"><img src=\"https://colab.research.google.com/assets/colab-badge.svg\" alt=\"Open In Colab\"/></a>"
      ]
    },
    {
      "cell_type": "code",
      "source": [
        "pip install pycryptodome"
      ],
      "metadata": {
        "colab": {
          "base_uri": "https://localhost:8080/"
        },
        "id": "eRsZzMAO7foX",
        "outputId": "7416a678-2de2-4bf4-8ea2-e34a8a0f9828"
      },
      "execution_count": null,
      "outputs": [
        {
          "output_type": "stream",
          "name": "stdout",
          "text": [
            "Requirement already satisfied: pycryptodome in /usr/local/lib/python3.7/dist-packages (3.14.1)\n"
          ]
        }
      ]
    },
    {
      "cell_type": "code",
      "source": [
        "from Crypto.Cipher import AES\n",
        "from Crypto.Hash import SHA256 \n",
        "import base64"
      ],
      "metadata": {
        "id": "qi2LqXU7l6zA"
      },
      "execution_count": null,
      "outputs": []
    },
    {
      "cell_type": "code",
      "source": [
        "password =input(\"ENTER PASSWORD\")\n",
        "\n",
        "print(password)"
      ],
      "metadata": {
        "colab": {
          "base_uri": "https://localhost:8080/"
        },
        "id": "hXQxexITnWAj",
        "outputId": "e6e86193-e46e-4a3b-c33c-45e4086dabc7"
      },
      "execution_count": null,
      "outputs": [
        {
          "output_type": "stream",
          "name": "stdout",
          "text": [
            "ENTER PASSWORDravi\n",
            "ravi\n"
          ]
        }
      ]
    },
    {
      "cell_type": "code",
      "source": [
        "hash_obj=SHA256.new(password.encode('utf-8'))\n",
        "hkey=hash_obj.digest()"
      ],
      "metadata": {
        "id": "OV-CwDipnw3P"
      },
      "execution_count": null,
      "outputs": []
    },
    {
      "cell_type": "code",
      "source": [
        "print(hkey)\n",
        "len(hkey)"
      ],
      "metadata": {
        "colab": {
          "base_uri": "https://localhost:8080/"
        },
        "id": "GlvK6KmhJL41",
        "outputId": "1cdac1cf-8d2c-4ffb-a40c-b40827461a4e"
      },
      "execution_count": null,
      "outputs": [
        {
          "output_type": "stream",
          "name": "stdout",
          "text": [
            "b'7/\\xb4\\x12\\x98\\x88\\x9b\\xc4\\xdf\":`\\x1c\\xf4GT\\x07\\xcd\\xea\\xe0\\x93\\x86\\x92\\xae\\x01\\x877\\xec\\x135\\x19\\x0b'\n"
          ]
        },
        {
          "output_type": "execute_result",
          "data": {
            "text/plain": [
              "32"
            ]
          },
          "metadata": {},
          "execution_count": 6
        }
      ]
    },
    {
      "cell_type": "code",
      "source": [
        "def encrypt(info):\n",
        "  msg=info\n",
        "  BLOCK_SIZE = 16\n",
        "  pad=\"{\"\n",
        "  padding=lambda s: s + (BLOCK_SIZE-len(s)% BLOCK_SIZE)*pad\n",
        "  cipher = AES.new(hkey, AES.MODE_ECB)\n",
        "  result=cipher.encrypt(padding(msg).encode('utf-8'))\n",
        "  return result"
      ],
      "metadata": {
        "id": "COKbBwIAmPpF"
      },
      "execution_count": null,
      "outputs": []
    },
    {
      "cell_type": "code",
      "source": [
        "plain_texts=['ABCDEF','ABCDEFG','ABCDEFGH','ABCDEFGHI','ABCDEFABCDEF','ABCDEFGHABCDEFGH']\n",
        "print(plain_texts[:])"
      ],
      "metadata": {
        "colab": {
          "base_uri": "https://localhost:8080/"
        },
        "id": "kF-qUImPHFJ8",
        "outputId": "f7d6ea86-b5b5-421a-b3fc-b24879331547"
      },
      "execution_count": null,
      "outputs": [
        {
          "output_type": "stream",
          "name": "stdout",
          "text": [
            "['ABCDEF', 'ABCDEFG', 'ABCDEFGH', 'ABCDEFGHI', 'ABCDEFABCDEF', 'ABCDEFGHABCDEFGH']\n"
          ]
        }
      ]
    },
    {
      "cell_type": "code",
      "source": [
        "cipher=[]\n",
        "for msg in plain_texts:\n",
        "#msg='ABCDEFGHABCDEFGH'\n",
        "  cipher_text=encrypt(msg)\n",
        "  cipher.append(cipher_text)\n",
        "  enc=str(base64.b64encode(cipher_text))\n",
        "  print(\"plain text : \",msg,'\\nlength of plain text : ',len(msg))\n",
        "  print(\"cipher text :\",cipher_text,'\\nlength of cipher text in bytes : ',len(cipher_text))\n",
        "  print(\"base64 characters : \",base64.b64encode(cipher_text))\n",
        "  print(\"\\nlength of cipher :\",len(base64.b64encode(cipher_text)))\n",
        "  #print(\"after decryption : \",key.decrypt(cipher_text,padding=True,initial=0))\n",
        "  print(\"*\"*25)"
      ],
      "metadata": {
        "colab": {
          "base_uri": "https://localhost:8080/"
        },
        "id": "PxYJ0aTyKvlw",
        "outputId": "90125724-2861-44ac-da50-9bec7501b7fc"
      },
      "execution_count": null,
      "outputs": [
        {
          "output_type": "stream",
          "name": "stdout",
          "text": [
            "plain text :  ABCDEF \n",
            "length of plain text :  6\n",
            "cipher text : b'\\xd1/\\x9f\\xc5\\xe4\\\\\\x08[\\x99\\x7f\\x07\\xa2\\xe2\\xb04\\xbc' \n",
            "length of cipher text in bytes :  16\n",
            "base64 characters :  b'0S+fxeRcCFuZfwei4rA0vA=='\n",
            "\n",
            "length of cipher : 24\n",
            "*************************\n",
            "plain text :  ABCDEFG \n",
            "length of plain text :  7\n",
            "cipher text : b'g\\xc2\\xacGG\\xbc\\x1e\\xd5\\xf4\\x0fc&\\xdf\\xbe=\\x84' \n",
            "length of cipher text in bytes :  16\n",
            "base64 characters :  b'Z8KsR0e8HtX0D2Mm3749hA=='\n",
            "\n",
            "length of cipher : 24\n",
            "*************************\n",
            "plain text :  ABCDEFGH \n",
            "length of plain text :  8\n",
            "cipher text : b'\\x06\\xbc\\xf3\\x8c\\xad\\xaa\\xe7i\\xe7\\x08\\xb7\\xf08\\x98\\xc5\"' \n",
            "length of cipher text in bytes :  16\n",
            "base64 characters :  b'BrzzjK2q52nnCLfwOJjFIg=='\n",
            "\n",
            "length of cipher : 24\n",
            "*************************\n",
            "plain text :  ABCDEFGHI \n",
            "length of plain text :  9\n",
            "cipher text : b'\\x8a\\xd4\\xbbr\\r8\\xdeK\\x7f\\x92\\x0f\\xdd\\x8d\\xff!\\xda' \n",
            "length of cipher text in bytes :  16\n",
            "base64 characters :  b'itS7cg043kt/kg/djf8h2g=='\n",
            "\n",
            "length of cipher : 24\n",
            "*************************\n",
            "plain text :  ABCDEFABCDEF \n",
            "length of plain text :  12\n",
            "cipher text : b'\\xd8\\xd3\\x15r\\xa0\\x8e\\xcc\\xc6M\\xb1]\\xce\\xb1\\x02F^' \n",
            "length of cipher text in bytes :  16\n",
            "base64 characters :  b'2NMVcqCOzMZNsV3OsQJGXg=='\n",
            "\n",
            "length of cipher : 24\n",
            "*************************\n",
            "plain text :  ABCDEFGHABCDEFGH \n",
            "length of plain text :  16\n",
            "cipher text : b'\\xf1\\x07\\tqg~\\r\\xa8P\\xa0\\x9dNu\\xbe\\xc1\\x80E\\r\\xff\\xac\\xc0\\xd1\\xcc.\\x1d\\xecA\\xd0\\xfa\\x167\\xa9' \n",
            "length of cipher text in bytes :  32\n",
            "base64 characters :  b'8QcJcWd+DahQoJ1Odb7BgEUN/6zA0cwuHexB0PoWN6k='\n",
            "\n",
            "length of cipher : 44\n",
            "*************************\n"
          ]
        }
      ]
    },
    {
      "cell_type": "code",
      "source": [
        "f = open(\"base64_encoded.txt\", \"w\",encoding='ascii')\n",
        "f.write(enc[2:-1])\n",
        "f.close()\n",
        "\n"
      ],
      "metadata": {
        "id": "WiQomEES7cOK"
      },
      "execution_count": null,
      "outputs": []
    },
    {
      "cell_type": "code",
      "source": [
        ""
      ],
      "metadata": {
        "id": "lxZd64K9Anlc"
      },
      "execution_count": null,
      "outputs": []
    },
    {
      "cell_type": "code",
      "source": [
        "f = open(\"base64_encoded.txt\", \"r\")\n",
        "file=f.readline()"
      ],
      "metadata": {
        "id": "LgCECAZr94Mm"
      },
      "execution_count": null,
      "outputs": []
    },
    {
      "cell_type": "code",
      "source": [
        "print(file)\n",
        "len(file)"
      ],
      "metadata": {
        "id": "R6iUu8TQ9W4a",
        "colab": {
          "base_uri": "https://localhost:8080/"
        },
        "outputId": "8f76bbd7-b59e-4cb3-dce1-f19d70be2714"
      },
      "execution_count": null,
      "outputs": [
        {
          "output_type": "stream",
          "name": "stdout",
          "text": [
            "8QcJcWd+DahQoJ1Odb7BgEUN/6zA0cwuHexB0PoWN6k=\n"
          ]
        },
        {
          "output_type": "execute_result",
          "data": {
            "text/plain": [
              "44"
            ]
          },
          "metadata": {},
          "execution_count": 21
        }
      ]
    },
    {
      "cell_type": "code",
      "source": [
        "\n",
        "x=''\n",
        "for i in file:\n",
        "    if ord(i)>=65 and ord(i)<=90:\n",
        "        t=bin(ord(i)%64-1)[2:]\n",
        "        if len(t)!=6:\n",
        "            t='0'*(6-len(t))+t\n",
        "        x+=t\n",
        "    elif ord(i)>=97 and ord(i)<=122:\n",
        "        t=bin(ord(i)%64-7)[2:]\n",
        "        if len(t)!=6:\n",
        "            t='0'*(6-len(t))+t\n",
        "        x+=t\n",
        "    elif ord(i)>=48 and ord(i)<=57:\n",
        "        t=bin(ord(i)+4)[2:]\n",
        "        if len(t)!=6:\n",
        "            t='0'*(6-len(t))+t\n",
        "        x+=t\n",
        "    elif i=='+':\n",
        "        x+=bin(43)[2:]\n",
        "    elif i=='/':\n",
        "        x+=bin(47)[2:]\n",
        "    elif i=='=':\n",
        "        x+=bin(61)[2:]"
      ],
      "metadata": {
        "id": "431S8Kz_9apZ"
      },
      "execution_count": null,
      "outputs": []
    },
    {
      "cell_type": "code",
      "source": [
        "print(x)\n",
        "#f = open(\"base64_6_bit_repr.txt\", \"x\") # creates new file, uncomment when using it for the first time\n",
        "f = open(\"base64_6_bit_repr.txt\", \"w\",encoding='ascii')\n",
        "f.write(x)\n",
        "f.close()"
      ],
      "metadata": {
        "id": "Jae9okyf8tBg",
        "colab": {
          "base_uri": "https://localhost:8080/"
        },
        "outputId": "e17ed942-b0cd-4cc7-891e-3aa8c07a05e7"
      },
      "execution_count": null,
      "outputs": [
        {
          "output_type": "stream",
          "name": "stdout",
          "text": [
            "111100010000011100001001011100010110011101101011000011011010100001010000101000001001110101001110011101011011111011000001100000000100010100001101101111111010110011000000110100011100110000101110000111011110110001000001110100001111101000010110001101111010100100111101\n"
          ]
        }
      ]
    },
    {
      "cell_type": "code",
      "source": [
        "f=open(\"base64_6_bit_repr.txt\", \"r\")\n",
        "file=f.readline()\n",
        "len(file)"
      ],
      "metadata": {
        "id": "u10wic5x87Zi",
        "colab": {
          "base_uri": "https://localhost:8080/"
        },
        "outputId": "223bd671-b64a-4218-81d3-3b96cb1621ea"
      },
      "execution_count": null,
      "outputs": [
        {
          "output_type": "execute_result",
          "data": {
            "text/plain": [
              "264"
            ]
          },
          "metadata": {},
          "execution_count": 23
        }
      ]
    },
    {
      "cell_type": "code",
      "source": [
        "text='' # write the ASCII character in a text file\n",
        "for i in range(0,len(file),8):\n",
        "    text+=chr(int(file[i:i+8],2))"
      ],
      "metadata": {
        "id": "DlAIeX8c8IhV"
      },
      "execution_count": null,
      "outputs": []
    },
    {
      "cell_type": "code",
      "source": [
        "print(text)"
      ],
      "metadata": {
        "id": "cICFPu7fwF_-",
        "outputId": "2be769bb-7896-4a0a-bcee-0201dd2c2c74",
        "colab": {
          "base_uri": "https://localhost:8080/"
        }
      },
      "execution_count": null,
      "outputs": [
        {
          "output_type": "stream",
          "name": "stdout",
          "text": [
            "ñ\u0007\tqgk\r¨P Nu¾ÁE\r¿¬ÀÑÌ.\u001dìAÐú\u00167©=\n"
          ]
        }
      ]
    },
    {
      "cell_type": "code",
      "source": [
        "#f = open(\"ascii_repr.txt\", \"x\") # creates new file, uncomment when using it for the first time\n",
        "f = open(\"ascii_repr.txt\", \"w\",encoding='ascii',errors='replace')\n",
        "f.write(text)\n",
        "f.close()"
      ],
      "metadata": {
        "id": "w1_tUhTStiGN"
      },
      "execution_count": null,
      "outputs": []
    },
    {
      "cell_type": "markdown",
      "source": [
        ""
      ],
      "metadata": {
        "id": "GM6nN6gh0H-P"
      }
    },
    {
      "cell_type": "code",
      "source": [
        ""
      ],
      "metadata": {
        "id": "JhSMBTxHAGRi"
      },
      "execution_count": null,
      "outputs": []
    }
  ]
}